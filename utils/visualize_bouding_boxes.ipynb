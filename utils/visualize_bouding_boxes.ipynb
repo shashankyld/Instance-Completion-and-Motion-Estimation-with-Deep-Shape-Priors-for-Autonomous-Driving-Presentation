{
 "cells": [
  {
   "cell_type": "code",
   "execution_count": 1,
   "metadata": {},
   "outputs": [
    {
     "name": "stdout",
     "output_type": "stream",
     "text": [
      "Jupyter environment detected. Enabling Open3D WebVisualizer.\n",
      "[Open3D INFO] WebRTC GUI backend enabled.\n",
      "[Open3D INFO] WebRTCWindowSystem: HTTP handshake server disabled.\n"
     ]
    }
   ],
   "source": [
    "# Load a point cloud, display gt, detections, and optimized detections as bounding boxes\n",
    "# Bouding box format: x y z l w h yaw\n",
    "\n",
    "import argparse\n",
    "import os\n",
    "import sys\n",
    "import numpy as np\n",
    "import open3d as o3d\n"
   ]
  },
  {
   "cell_type": "code",
   "execution_count": 2,
   "metadata": {},
   "outputs": [
    {
     "name": "stdout",
     "output_type": "stream",
     "text": [
      "file_id:  100\n"
     ]
    }
   ],
   "source": [
    "file_id = 100\n",
    "print(\"file_id: \", file_id)\n",
    "pcd_path = \"/home/shashank/Documents/UniBonn/Sem2/MSR_P04/from_scratch/results/Argoverse/pcd_new/\" + str(file_id) + \".pcd\"\n",
    "det_bbox_path = \"/home/shashank/Documents/UniBonn/Sem2/MSR_P04/from_scratch/results/Argoverse/pcd/000/det/\" + str(file_id) + \".txt\" # yaw in radians\n",
    "gt_bbox_path = \"/home/shashank/Documents/UniBonn/Sem2/MSR_P04/from_scratch/results/Argoverse/pcd/000/gt000016/\"+ str(file_id) + \".txt\"  # yaw in degrees\n",
    "opt_det_bbox_path = \"/home/shashank/Documents/UniBonn/Sem2/MSR_P04/from_scratch/results/Argoverse/pcd_new_bouding_box_after_corrections/\" + str(file_id) + \".txt\"# yaw in radians\n",
    "\n"
   ]
  },
  {
   "cell_type": "code",
   "execution_count": 3,
   "metadata": {},
   "outputs": [],
   "source": [
    "gt_bbox = np.loadtxt(gt_bbox_path)\n",
    "det_bbox = np.loadtxt(det_bbox_path)\n",
    "opt_det_bbox = np.loadtxt(opt_det_bbox_path)\n",
    "# Rotation matrix from yaw\n",
    "R_gt_bbox = np.array([[np.cos(gt_bbox[6]), -np.sin(gt_bbox[6]), 0],\n",
    "                        [np.sin(gt_bbox[6]), np.cos(gt_bbox[6]), 0],\n",
    "                        [0, 0, 1]])\n",
    "R_det_bbox = np.array([[np.cos(np.deg2rad(det_bbox[6])), -np.sin(np.deg2rad(det_bbox[6])), 0],\n",
    "                        [np.sin(np.deg2rad(det_bbox[6])), np.cos(np.deg2rad(det_bbox[6])), 0],\n",
    "                        [0, 0, 1]])\n",
    "R_opt_det_bbox = np.array([[np.cos(opt_det_bbox[6]), -np.sin(opt_det_bbox[6]), 0],\n",
    "                        [np.sin(opt_det_bbox[6]), np.cos(opt_det_bbox[6]), 0],\n",
    "                        [0, 0, 1]])\n",
    "# Complete transformation matrix\n",
    "T_gt_bbox = np.eye(4)\n",
    "T_det_bbox = np.eye(4)\n",
    "T_opt_det_bbox = np.eye(4)\n",
    "T_gt_bbox[:3, :3] = R_gt_bbox\n",
    "T_det_bbox[:3, :3] = R_det_bbox\n",
    "T_opt_det_bbox[:3, :3] = R_opt_det_bbox\n",
    "T_gt_bbox[:3, 3] = gt_bbox[:3]\n",
    "T_det_bbox[:3, 3] = det_bbox[:3]\n",
    "T_opt_det_bbox[:3, 3] = opt_det_bbox[:3]\n",
    "\n",
    "\n"
   ]
  },
  {
   "cell_type": "code",
   "execution_count": 4,
   "metadata": {},
   "outputs": [],
   "source": [
    "\n",
    "# Load point cloud\n",
    "pcd_folder = \"/home/shashank/data/datasets/av2/train-000/train/074d2237-ed1b-34d7-a2fc-68edbce50bb2/sensors/lidar_pcd\"\n",
    "# Make pcd file list from folder\n",
    "pcd_list = []\n",
    "for file in os.listdir(pcd_folder):\n",
    "    if file.endswith(\".pcd\"):\n",
    "        pcd_list.append(os.path.join(pcd_folder, file))\n",
    "# pcd_list.sort()\n",
    "# for file in pcd_list:\n",
    "#     print(os.path.basename(file))\n",
    "pcd_full_path = pcd_list[file_id]\n",
    "pcd_full = o3d.io.read_point_cloud(pcd_full_path)\n",
    "# o3d.visualization.draw_geometries([pcd_full])"
   ]
  },
  {
   "cell_type": "code",
   "execution_count": 5,
   "metadata": {},
   "outputs": [],
   "source": [
    "# Create gt bbox - open3d object\n",
    "gt_bbox_obj = o3d.geometry.OrientedBoundingBox()\n",
    "gt_bbox_obj.color = (0, 1, 0)\n",
    "gt_bbox_obj.center = gt_bbox[:3]\n",
    "gt_bbox_obj.R = R_gt_bbox\n",
    "gt_bbox_obj.extent = gt_bbox[3:6]\n",
    "\n",
    "# Create det bbox - open3d object\n",
    "det_bbox_obj = o3d.geometry.OrientedBoundingBox()\n",
    "det_bbox_obj.color = (1, 0, 0)\n",
    "det_bbox_obj.center = det_bbox[:3]\n",
    "det_bbox_obj.R = R_det_bbox\n",
    "det_bbox_obj.extent = det_bbox[3:6]\n",
    "\n",
    "# Create opt det bbox - open3d object\n",
    "opt_det_bbox_obj = o3d.geometry.OrientedBoundingBox()\n",
    "opt_det_bbox_obj.color = (0, 0, 1)\n",
    "opt_det_bbox_obj.center = opt_det_bbox[:3]\n",
    "opt_det_bbox_obj.R = R_opt_det_bbox\n",
    "opt_det_bbox_obj.extent = opt_det_bbox[3:6]\n",
    "\n",
    "# Visualize\n",
    "o3d.visualization.draw_geometries([pcd_full, gt_bbox_obj, det_bbox_obj, opt_det_bbox_obj])\n",
    "\n"
   ]
  },
  {
   "cell_type": "code",
   "execution_count": 6,
   "metadata": {},
   "outputs": [],
   "source": [
    "# Visualize in det frame\n",
    "\n",
    "pcd_det_frame_path = \"/home/shashank/Documents/UniBonn/Sem2/MSR_P04/from_scratch/results/Argoverse/pcd_new/\" + str(file_id) + \".pcd\"\n",
    "pcd_det_frame  = o3d.io.read_point_cloud(pcd_det_frame_path)\n",
    "\n",
    "T_gt_wrt_det = np.linalg.inv(T_det_bbox) @ T_gt_bbox\n",
    "T_opt_det_wrt_det = np.linalg.inv(T_det_bbox) @ T_opt_det_bbox\n",
    "\n",
    "gt_bbox_det_frame = o3d.geometry.OrientedBoundingBox()\n",
    "gt_bbox_det_frame.color = (0, 1, 0)\n",
    "gt_bbox_det_frame.center = T_gt_wrt_det[:3, 3]\n",
    "gt_bbox_det_frame.R = T_gt_wrt_det[:3, :3]\n",
    "gt_bbox_det_frame.extent = gt_bbox[3:6]\n",
    "\n",
    "opt_det_bbox_det_frame = o3d.geometry.OrientedBoundingBox()\n",
    "opt_det_bbox_det_frame.color = (0, 0, 1)\n",
    "opt_det_bbox_det_frame.center = T_opt_det_wrt_det[:3, 3]\n",
    "opt_det_bbox_det_frame.R = T_opt_det_wrt_det[:3, :3]\n",
    "opt_det_bbox_det_frame.extent = opt_det_bbox[3:6]\n",
    "\n",
    "det_bbox_det_frame = o3d.geometry.OrientedBoundingBox()\n",
    "det_bbox_det_frame.color = (1, 0, 0)\n",
    "det_bbox_det_frame.center = np.zeros(3)\n",
    "det_bbox_det_frame.R = np.eye(3)\n",
    "det_bbox_det_frame.extent = det_bbox[3:6]\n",
    "\n",
    "# o3d.visualization.draw_geometries([pcd_det_frame, gt_bbox_det_frame, det_bbox_det_frame, opt_det_bbox_det_frame])\n"
   ]
  },
  {
   "cell_type": "code",
   "execution_count": 7,
   "metadata": {},
   "outputs": [],
   "source": [
    "# Visualizing with mesh \n",
    "dict_path = \"/home/shashank/Documents/UniBonn/Sem2/MSR_P04/from_scratch/results/Argoverse/pcd_new_bouding_box_corrections/\" + str(file_id) + \".npy\"\n",
    "dict = np.load(dict_path, allow_pickle=True).item()\n",
    "mesh_pcd = dict['mesh_object_frame_pcd']\n",
    "# Numpy to open3d\n",
    "mesh_pcd_o3d = o3d.geometry.PointCloud()\n",
    "mesh_pcd_o3d.points = o3d.utility.Vector3dVector(mesh_pcd)\n",
    "mesh_pcd_o3d.paint_uniform_color([1, 0.0, 1])\n",
    "# Visualize\n",
    "o3d.visualization.draw_geometries([pcd_det_frame, gt_bbox_det_frame, det_bbox_det_frame, opt_det_bbox_det_frame, mesh_pcd_o3d])"
   ]
  }
 ],
 "metadata": {
  "kernelspec": {
   "display_name": "project_jan25",
   "language": "python",
   "name": "python3"
  },
  "language_info": {
   "codemirror_mode": {
    "name": "ipython",
    "version": 3
   },
   "file_extension": ".py",
   "mimetype": "text/x-python",
   "name": "python",
   "nbconvert_exporter": "python",
   "pygments_lexer": "ipython3",
   "version": "3.8.10"
  }
 },
 "nbformat": 4,
 "nbformat_minor": 2
}
