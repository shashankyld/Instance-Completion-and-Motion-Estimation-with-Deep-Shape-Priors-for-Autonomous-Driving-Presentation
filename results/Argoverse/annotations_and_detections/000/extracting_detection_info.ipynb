{
 "cells": [
  {
   "cell_type": "code",
   "execution_count": 1,
   "metadata": {},
   "outputs": [
    {
     "ename": "ModuleNotFoundError",
     "evalue": "No module named 'kiss_icp'",
     "output_type": "error",
     "traceback": [
      "\u001b[0;31m---------------------------------------------------------------------------\u001b[0m",
      "\u001b[0;31mModuleNotFoundError\u001b[0m                       Traceback (most recent call last)",
      "\u001b[1;32m/home/shashank/Documents/UniBonn/Sem2/MSR_P04/from_scratch/results/Argoverse/annotations_and_detections/000/extracting_detection_info.ipynb Cell 1\u001b[0m line \u001b[0;36m5\n\u001b[1;32m      <a href='vscode-notebook-cell:/home/shashank/Documents/UniBonn/Sem2/MSR_P04/from_scratch/results/Argoverse/annotations_and_detections/000/extracting_detection_info.ipynb#W0sZmlsZQ%3D%3D?line=1'>2</a>\u001b[0m npy_path \u001b[39m=\u001b[39m \u001b[39m\"\u001b[39m\u001b[39m/home/shashank/Documents/UniBonn/Sem2/MSR_P04/from_scratch/results/Argoverse/annotations_and_detections/000/000016.npy\u001b[39m\u001b[39m\"\u001b[39m\n\u001b[1;32m      <a href='vscode-notebook-cell:/home/shashank/Documents/UniBonn/Sem2/MSR_P04/from_scratch/results/Argoverse/annotations_and_detections/000/extracting_detection_info.ipynb#W0sZmlsZQ%3D%3D?line=2'>3</a>\u001b[0m \u001b[39mimport\u001b[39;00m \u001b[39mnumpy\u001b[39;00m \u001b[39mas\u001b[39;00m \u001b[39mnp\u001b[39;00m\n\u001b[0;32m----> <a href='vscode-notebook-cell:/home/shashank/Documents/UniBonn/Sem2/MSR_P04/from_scratch/results/Argoverse/annotations_and_detections/000/extracting_detection_info.ipynb#W0sZmlsZQ%3D%3D?line=4'>5</a>\u001b[0m data \u001b[39m=\u001b[39m np\u001b[39m.\u001b[39;49mload(npy_path, allow_pickle\u001b[39m=\u001b[39;49m\u001b[39mTrue\u001b[39;49;00m)\n\u001b[1;32m      <a href='vscode-notebook-cell:/home/shashank/Documents/UniBonn/Sem2/MSR_P04/from_scratch/results/Argoverse/annotations_and_detections/000/extracting_detection_info.ipynb#W0sZmlsZQ%3D%3D?line=5'>6</a>\u001b[0m \u001b[39mprint\u001b[39m(data\u001b[39m.\u001b[39mshape)\n",
      "File \u001b[0;32m~/.local/lib/python3.8/site-packages/numpy/lib/npyio.py:432\u001b[0m, in \u001b[0;36mload\u001b[0;34m(file, mmap_mode, allow_pickle, fix_imports, encoding, max_header_size)\u001b[0m\n\u001b[1;32m    429\u001b[0m         \u001b[39mreturn\u001b[39;00m \u001b[39mformat\u001b[39m\u001b[39m.\u001b[39mopen_memmap(file, mode\u001b[39m=\u001b[39mmmap_mode,\n\u001b[1;32m    430\u001b[0m                                   max_header_size\u001b[39m=\u001b[39mmax_header_size)\n\u001b[1;32m    431\u001b[0m     \u001b[39melse\u001b[39;00m:\n\u001b[0;32m--> 432\u001b[0m         \u001b[39mreturn\u001b[39;00m \u001b[39mformat\u001b[39;49m\u001b[39m.\u001b[39;49mread_array(fid, allow_pickle\u001b[39m=\u001b[39;49mallow_pickle,\n\u001b[1;32m    433\u001b[0m                                  pickle_kwargs\u001b[39m=\u001b[39;49mpickle_kwargs,\n\u001b[1;32m    434\u001b[0m                                  max_header_size\u001b[39m=\u001b[39;49mmax_header_size)\n\u001b[1;32m    435\u001b[0m \u001b[39melse\u001b[39;00m:\n\u001b[1;32m    436\u001b[0m     \u001b[39m# Try a pickle\u001b[39;00m\n\u001b[1;32m    437\u001b[0m     \u001b[39mif\u001b[39;00m \u001b[39mnot\u001b[39;00m allow_pickle:\n",
      "File \u001b[0;32m~/.local/lib/python3.8/site-packages/numpy/lib/format.py:792\u001b[0m, in \u001b[0;36mread_array\u001b[0;34m(fp, allow_pickle, pickle_kwargs, max_header_size)\u001b[0m\n\u001b[1;32m    790\u001b[0m     pickle_kwargs \u001b[39m=\u001b[39m {}\n\u001b[1;32m    791\u001b[0m \u001b[39mtry\u001b[39;00m:\n\u001b[0;32m--> 792\u001b[0m     array \u001b[39m=\u001b[39m pickle\u001b[39m.\u001b[39;49mload(fp, \u001b[39m*\u001b[39;49m\u001b[39m*\u001b[39;49mpickle_kwargs)\n\u001b[1;32m    793\u001b[0m \u001b[39mexcept\u001b[39;00m \u001b[39mUnicodeError\u001b[39;00m \u001b[39mas\u001b[39;00m err:\n\u001b[1;32m    794\u001b[0m     \u001b[39m# Friendlier error message\u001b[39;00m\n\u001b[1;32m    795\u001b[0m     \u001b[39mraise\u001b[39;00m \u001b[39mUnicodeError\u001b[39;00m(\u001b[39m\"\u001b[39m\u001b[39mUnpickling a python object failed: \u001b[39m\u001b[39m%r\u001b[39;00m\u001b[39m\\n\u001b[39;00m\u001b[39m\"\u001b[39m\n\u001b[1;32m    796\u001b[0m                        \u001b[39m\"\u001b[39m\u001b[39mYou may need to pass the encoding= option \u001b[39m\u001b[39m\"\u001b[39m\n\u001b[1;32m    797\u001b[0m                        \u001b[39m\"\u001b[39m\u001b[39mto numpy.load\u001b[39m\u001b[39m\"\u001b[39m \u001b[39m%\u001b[39m (err,)) \u001b[39mfrom\u001b[39;00m \u001b[39merr\u001b[39;00m\n",
      "\u001b[0;31mModuleNotFoundError\u001b[0m: No module named 'kiss_icp'"
     ]
    }
   ],
   "source": [
    "# Load the .npy\n",
    "npy_path = \"/home/shashank/Documents/UniBonn/Sem2/MSR_P04/from_scratch/results/Argoverse/annotations_and_detections/000/000016.npy\"\n",
    "import numpy as np\n",
    "\n",
    "data = np.load(npy_path, allow_pickle=True)\n",
    "print(data.shape)"
   ]
  }
 ],
 "metadata": {
  "kernelspec": {
   "display_name": "project_jan25",
   "language": "python",
   "name": "python3"
  },
  "language_info": {
   "codemirror_mode": {
    "name": "ipython",
    "version": 3
   },
   "file_extension": ".py",
   "mimetype": "text/x-python",
   "name": "python",
   "nbconvert_exporter": "python",
   "pygments_lexer": "ipython3",
   "version": "3.8.10"
  }
 },
 "nbformat": 4,
 "nbformat_minor": 2
}
