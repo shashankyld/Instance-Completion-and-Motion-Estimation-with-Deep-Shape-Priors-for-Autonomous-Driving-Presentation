{
 "cells": [
  {
   "cell_type": "code",
   "execution_count": 13,
   "metadata": {},
   "outputs": [
    {
     "name": "stdout",
     "output_type": "stream",
     "text": [
      "np_points.shape 49\n",
      "pcd PointCloud with 597 points.\n"
     ]
    },
    {
     "data": {
      "text/plain": [
       "True"
      ]
     },
     "execution_count": 13,
     "metadata": {},
     "output_type": "execute_result"
    }
   ],
   "source": [
    "import numpy as np\n",
    "import open3d as o3d\n",
    "\n",
    "path = \"/home/shashank/Documents/UniBonn/Sem2/MSR_P04/from_scratch/P04_Instance-Completion-and-Motion-Estimation-with-Deep-Shape-Priors-for-Autonomous-Driving/results/instance_association/new/PointCloud_KITTI21_Obj_ID_1-test.npy\"\n",
    "np_points = np.load(path, allow_pickle=True).item()\n",
    "print(\"np_points.shape\", len(np_points))\n",
    "\n",
    "for k,v in np_points.items():\n",
    "    if k == 40:\n",
    "        points = v.pts_obj_sensor\n",
    "        print(\"pcd\", pcd)\n",
    "        # load point cloud from numpy array\n",
    "        pcd = o3d.geometry.PointCloud()\n",
    "        pcd.points = o3d.utility.Vector3dVector(points)\n",
    "\n",
    "\n",
    "# visualize point cloud\n",
    "# o3d.visualization.draw_geometries([pcd])\n",
    "coordinate_frame = o3d.geometry.TriangleMesh.create_coordinate_frame(size=1, origin=[0, 0, 0])\n",
    "o3d.visualization.draw_geometries([pcd, coordinate_frame])\n",
    "\n",
    "# Save the point cloud in object frame in .pcd format\n",
    "o3d.io.write_point_cloud(\"/home/shashank/Documents/UniBonn/Sem2/MSR_P04/from_scratch/config/car_id1_frame40_in_object_frame.pcd\", pcd)"
   ]
  },
  {
   "cell_type": "code",
   "execution_count": null,
   "metadata": {},
   "outputs": [],
   "source": []
  }
 ],
 "metadata": {
  "kernelspec": {
   "display_name": "dsp-slam",
   "language": "python",
   "name": "python3"
  },
  "language_info": {
   "codemirror_mode": {
    "name": "ipython",
    "version": 3
   },
   "file_extension": ".py",
   "mimetype": "text/x-python",
   "name": "python",
   "nbconvert_exporter": "python",
   "pygments_lexer": "ipython3",
   "version": "3.7.12"
  },
  "orig_nbformat": 4
 },
 "nbformat": 4,
 "nbformat_minor": 2
}
