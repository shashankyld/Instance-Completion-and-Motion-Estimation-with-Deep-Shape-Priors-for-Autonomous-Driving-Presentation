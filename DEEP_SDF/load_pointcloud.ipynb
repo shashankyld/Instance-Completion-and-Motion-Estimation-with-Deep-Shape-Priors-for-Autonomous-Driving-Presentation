{
 "cells": [
  {
   "cell_type": "code",
   "execution_count": 1,
   "metadata": {},
   "outputs": [
    {
     "name": "stdout",
     "output_type": "stream",
     "text": [
      "Point cloud loaded\n"
     ]
    }
   ],
   "source": [
    "# Import open3d\n",
    "\n",
    "import open3d as o3d\n",
    "point_cloud_path = \"/home/shashank/Documents/UniBonn/Sem2/MSR_P04/DataSets/data_odometry_velodyne/dataset/sequences/21_onecar_pcd/velodyne\"\n",
    "pc_id = 380 \n",
    "bb_id = 380- 361\n",
    "# Load point cloud\n",
    "# point_cloud = o3d.io.read_point_cloud(point_cloud_path+ \"/\" + \"000423.pcd\")\n",
    "# point_cloud = o3d.io.read_point_cloud(point_cloud_path+ \"/\" + \"000361.pcd\")\n",
    "point_cloud = o3d.io.read_point_cloud(point_cloud_path+ \"/\" + \"000380.pcd\")\n",
    "print(\"Point cloud loaded\")\n",
    "# View point cloud\n",
    "o3d.visualization.draw_geometries([point_cloud])\n",
    "\n"
   ]
  },
  {
   "cell_type": "code",
   "execution_count": 2,
   "metadata": {},
   "outputs": [
    {
     "name": "stdout",
     "output_type": "stream",
     "text": [
      "bb_poses [16.151415, 4.3119817, -0.84210455, 4.029848, 1.6493009, 1.5529932, -0.0371855]\n"
     ]
    }
   ],
   "source": [
    "# Load bounding box information file for all the frames\n",
    "# Path: /home/shashank/Documents/UniBonn/Sem2/MSR_P04/from_scratch/kiss-icp/python/results/21_onecar_odom/velodyne_poses_tum.txt\n",
    "\n",
    "bb_path = \"/home/shashank/Documents/UniBonn/Sem2/MSR_P04/from_scratch/OpenPCDet/tools/bb_pose.txt\"\n",
    "bb_poses = []\n",
    "with open(bb_path, 'r') as f:\n",
    "    for line in f:\n",
    "        line = line.strip()\n",
    "        line = line.split(' ')\n",
    "        # Convert to float\n",
    "        line = [float(i) for i in line]\n",
    "        bb_poses.append(line)\n",
    "# print(bb_poses)\n",
    "\n",
    "print(\"bb_poses\", bb_poses[bb_id])"
   ]
  },
  {
   "cell_type": "code",
   "execution_count": 3,
   "metadata": {},
   "outputs": [
    {
     "name": "stdout",
     "output_type": "stream",
     "text": [
      "bb_edges LineSet with 12 lines.\n",
      "bb_object <class 'open3d.cuda.pybind.geometry.OrientedBoundingBox'>\n"
     ]
    }
   ],
   "source": [
    "import numpy as np\n",
    "# Bounding Box Pose : Height, Width, Length, X, Y, Z, Yaw,\n",
    "def compute_bounding_box_object(X, Y, Z, Length, Width, Height, Yaw):\n",
    "    # Create the bounding box vertices in its local frame\n",
    "    # vertices = np.array([\n",
    "    #     [Length / 2, 0, Width / 2],\n",
    "    #     [Length / 2, 0, -Width / 2],\n",
    "    #     [-Length / 2, 0, -Width / 2],\n",
    "    #     [-Length / 2, 0, Width / 2],\n",
    "    #     [Length / 2, Height, Width / 2],\n",
    "    #     [Length / 2, Height, -Width / 2],\n",
    "    #     [-Length / 2, Height, -Width / 2],\n",
    "    #     [-Length / 2, Height, Width / 2]\n",
    "    # ])\n",
    "\n",
    "    vertices = np.array([\n",
    "        [Length / 2, Width / 2, -Height/2],\n",
    "        [Length / 2, -Width / 2, -Height/2],\n",
    "        [-Length / 2, -Width / 2, -Height/2],\n",
    "        [-Length / 2, Width / 2, -Height/2],\n",
    "        [Length / 2, Width / 2, Height/2],\n",
    "        [Length / 2, -Width / 2, Height/2],\n",
    "        [-Length / 2, -Width / 2, Height/2],\n",
    "        [-Length / 2, Width / 2, Height/2]\n",
    "\n",
    "    ])\n",
    "\n",
    "    # Create the rotation matrix based on Yaw\n",
    "    rotation_matrix = np.array([\n",
    "        [np.cos(Yaw), 0, np.sin(Yaw)],\n",
    "        [0, 1, 0],\n",
    "        [-np.sin(Yaw), 0, np.cos(Yaw)]\n",
    "    ])\n",
    "\n",
    "    # Rotate and translate the bounding box to its final pose\n",
    "    rotated_vertices = np.dot(vertices, rotation_matrix.T)\n",
    "    translated_vertices = rotated_vertices + np.array([X, Y, Z])\n",
    "\n",
    "    return o3d.geometry.OrientedBoundingBox.create_from_points(o3d.utility.Vector3dVector(translated_vertices))\n",
    "\n",
    "def compute_bounding_box_edges(X, Y, Z, Length, Width, Height,Yaw ):\n",
    "    # Create the bounding box vertices in its local frame\n",
    "    # vertices = np.array([\n",
    "    #     [Length / 2, 0, Width / 2],\n",
    "    #     [Length / 2, 0, -Width / 2],\n",
    "    #     [-Length / 2, 0, -Width / 2],\n",
    "    #     [-Length / 2, 0, Width / 2],\n",
    "    #     [Length / 2, Height, Width / 2],\n",
    "    #     [Length / 2, Height, -Width / 2],\n",
    "    #     [-Length / 2, Height, -Width / 2],\n",
    "    #     [-Length / 2, Height, Width / 2]\n",
    "    # ])\n",
    "\n",
    "    vertices = np.array([\n",
    "        [Length / 2, Width / 2, -Height/2],\n",
    "        [Length / 2, -Width / 2, -Height/2],\n",
    "        [-Length / 2, -Width / 2, -Height/2],\n",
    "        [-Length / 2, Width / 2, -Height/2],\n",
    "        [Length / 2, Width / 2, Height/2],\n",
    "        [Length / 2, -Width / 2, Height/2],\n",
    "        [-Length / 2, -Width / 2, Height/2],\n",
    "        [-Length / 2, Width / 2, Height/2]\n",
    "\n",
    "    ])\n",
    "    # Create the rotation matrix based on Yaw\n",
    "    rotation_matrix = np.array([\n",
    "        [np.cos(Yaw), 0, np.sin(Yaw)],\n",
    "        [0, 1, 0],\n",
    "        [-np.sin(Yaw), 0, np.cos(Yaw)]\n",
    "    ])\n",
    "\n",
    "    # Rotate and translate the bounding box to its final pose\n",
    "    rotated_vertices = np.dot(vertices, rotation_matrix.T)\n",
    "    translated_vertices = rotated_vertices + np.array([X, Y, Z])\n",
    "\n",
    "        # Define the edges of the bounding box\n",
    "    edges = [\n",
    "        [0, 1], [1, 2], [2, 3], [3, 0],\n",
    "        [4, 5], [5, 6], [6, 7], [7, 4],\n",
    "        [0, 4], [1, 5], [2, 6], [3, 7]\n",
    "    ]\n",
    "    # Create a Homogenous transformation matrix\n",
    "    T = np.eye(4)\n",
    "    T[:3, :3] = rotation_matrix\n",
    "    T[:3, 3] = np.array([X, Y, Z])\n",
    "\n",
    "    return o3d.geometry.LineSet(\n",
    "        points=o3d.utility.Vector3dVector(translated_vertices),\n",
    "        lines=o3d.utility.Vector2iVector(edges)\n",
    "    ), T\n",
    "    # return o3d.utility.Vector3dVector(translated_vertices)\n",
    "\n",
    "# Create a bbox object\n",
    "bb_object = compute_bounding_box_object(*bb_poses[bb_id])\n",
    "bb_edges, T = compute_bounding_box_edges(*bb_poses[bb_id])\n",
    "print(\"bb_edges\", bb_edges)\n",
    "print(\"bb_object\", type(bb_object))\n",
    "o3d.visualization.draw_geometries([point_cloud, bb_edges])\n",
    "\n",
    "# Visualize bb_edges\n",
    "# o3d.visualization.draw_geometries([bb_object])"
   ]
  },
  {
   "cell_type": "code",
   "execution_count": 4,
   "metadata": {},
   "outputs": [
    {
     "name": "stdout",
     "output_type": "stream",
     "text": [
      "<class 'open3d.cuda.pybind.geometry.PointCloud'>\n"
     ]
    }
   ],
   "source": [
    "car_object = point_cloud.crop(bb_object)\n",
    "# car_object_canonical = car_object\n",
    "\n",
    "# Copy the point cloud to a new variable by just copying the data\n",
    "import copy\n",
    "car_object_canonical = copy.deepcopy(car_object)\n",
    "car_object_canonical.transform(np.linalg.inv(T))\n",
    "print(type(car_object))\n",
    "# add coordinate frame\n",
    "coordinate_frame = o3d.geometry.TriangleMesh.create_coordinate_frame(size=1, origin=[0, 0, 0])\n",
    "# Save the cropped point cloud to a file\n",
    "o3d.io.write_point_cloud(\"cropped_car.pcd\", car_object)\n",
    "o3d.io.write_point_cloud(\"cropped_car_canonical.pcd\", car_object_canonical)\n",
    "\n",
    "o3d.visualization.draw_geometries([car_object, car_object_canonical, coordinate_frame])\n"
   ]
  },
  {
   "cell_type": "code",
   "execution_count": 5,
   "metadata": {},
   "outputs": [
    {
     "name": "stdout",
     "output_type": "stream",
     "text": [
      "car PointCloud with 411 points.\n",
      "(411, 3)\n"
     ]
    }
   ],
   "source": [
    "# Read cropped_car.pcd and visualize it\n",
    "car = o3d.io.read_point_cloud(\"cropped_car.pcd\")\n",
    "print(\"car\", car)\n",
    "# add coordinate frame\n",
    "coordinate_frame = o3d.geometry.TriangleMesh.create_coordinate_frame(size=1, origin=[0, 0, 0])\n",
    "# visualize\n",
    "vis = o3d.visualization.Visualizer()\n",
    "o3d.visualization.draw_geometries([car, coordinate_frame])\n",
    "# convert to numpy array\n",
    "car_np = np.asarray(car.points)\n",
    "print(car_np.shape)"
   ]
  },
  {
   "cell_type": "code",
   "execution_count": 6,
   "metadata": {},
   "outputs": [],
   "source": [
    "# Run clustering on point cloud data\n",
    "import open3d as o3d\n",
    "import numpy as np\n",
    "from sklearn.cluster import DBSCAN\n",
    "from sklearn.preprocessing import StandardScaler\n",
    "\n",
    "\n",
    "\n",
    "# Convert the point cloud to a NumPy array\n",
    "points = np.asarray(car_object.points)\n",
    "\n",
    "# Normalize the points (optional but recommended for DBSCAN)\n",
    "scaler = StandardScaler()\n",
    "normalized_points = scaler.fit_transform(points)\n",
    "\n",
    "# Perform DBSCAN clustering\n",
    "dbscan = DBSCAN(eps=0.4, min_samples=10)  # Adjust eps and min_samples as per your data\n",
    "labels = dbscan.fit_predict(normalized_points)\n",
    "\n",
    "# Create a new point cloud with cluster labels as colors\n",
    "colored_point_cloud = o3d.geometry.PointCloud()\n",
    "colored_point_cloud.points = o3d.utility.Vector3dVector(points)\n",
    "colored_point_cloud.colors = o3d.utility.Vector3dVector(np.random.random((len(points), 3)))\n",
    "\n",
    "# Assign cluster labels to the colors\n",
    "for i, label in enumerate(labels):\n",
    "    if label == -1:  # Noise points will be shown in black\n",
    "        colored_point_cloud.colors[i] = [0, 0, 0]\n",
    "    else:\n",
    "        # Assign random colors to clusters\n",
    "        np.random.seed(label)\n",
    "        colored_point_cloud.colors[i] = np.random.random(3)\n",
    "\n",
    "\n",
    "# Visualize the clustered point cloud\n",
    "o3d.visualization.draw_geometries([colored_point_cloud])\n"
   ]
  },
  {
   "cell_type": "code",
   "execution_count": 7,
   "metadata": {},
   "outputs": [
    {
     "name": "stdout",
     "output_type": "stream",
     "text": [
      "[[ 0.25892157 -0.02921848  0.063       0.0826    ]\n",
      " [ 0.03859191  0.26274633 -0.0367     -0.0036    ]\n",
      " [-0.05769022  0.04440944  0.258      -0.0211    ]\n",
      " [ 0.          0.          0.          1.        ]]\n"
     ]
    }
   ],
   "source": [
    "'''\n",
    "# Multiply [[ 0.2394, -0.0139,  0.0310,  0.0379],\n",
    "        [ 0.0198,  0.2364, -0.0466, -0.0317],\n",
    "        [-0.0277,  0.0487,  0.2352, -0.1744],\n",
    "        [ 0.0000,  0.0000,  0.0000,  1.0000]] and [0.93969262, -0.34202014, 0., 0.],\n",
    "                            [0.34202014, 0.93969262, 0., 0.],\n",
    "                            [0., 0., 1., 0.],\n",
    "                            [0., 0., 0., 1.]]\n",
    "'''\n",
    "T1 = np.array([[ 0.2533,  0.0611,  0.0630,  0.0826],\n",
    "        [-0.0536,  0.2601, -0.0367, -0.0036],\n",
    "        [-0.0694,  0.0220,  0.2580, -0.0211],\n",
    "        [ 0.0000,  0.0000,  0.0000,  1.0000]])\n",
    "\n",
    "T2 = np.array([[0.93969262, -0.34202014, 0., 0.],\n",
    "                                [0.34202014, 0.93969262, 0., 0.],\n",
    "                                [0., 0., 1., 0.],\n",
    "                                [0., 0., 0., 1.]])\n",
    "\n",
    "T = np.matmul(T1, T2)\n",
    "\n",
    "print(T)"
   ]
  },
  {
   "cell_type": "code",
   "execution_count": 8,
   "metadata": {},
   "outputs": [
    {
     "name": "stdout",
     "output_type": "stream",
     "text": [
      "car PointCloud with 411 points.\n",
      "car_points.shape (411, 3)\n",
      "t_cam_obj initializing with I tensor([[1., 0., 0., 0.],\n",
      "        [0., 1., 0., 0.],\n",
      "        [0., 0., 1., 0.],\n",
      "        [0., 0., 0., 1.]])\n",
      "Object joint optimization: Iter 0, loss: 4.937500, sdf loss: 0.049375, \n",
      "Object joint optimization: Iter 1, loss: 4.937500, sdf loss: 0.049375, \n",
      "Object joint optimization: Iter 2, loss: 4.937500, sdf loss: 0.049375, \n",
      "Object joint optimization: Iter 3, loss: 4.937500, sdf loss: 0.049375, \n",
      "Object joint optimization: Iter 4, loss: 4.937500, sdf loss: 0.049375, \n",
      "Object joint optimization: Iter 5, loss: 4.937500, sdf loss: 0.049375, \n",
      "Object joint optimization: Iter 6, loss: 4.937500, sdf loss: 0.049375, \n",
      "Object joint optimization: Iter 7, loss: 4.937500, sdf loss: 0.049375, \n",
      "Object joint optimization: Iter 8, loss: 4.937500, sdf loss: 0.049375, \n",
      "Object joint optimization: Iter 9, loss: 4.937500, sdf loss: 0.049375, \n",
      "Reconstruction takes 0.650978 seconds\n",
      "t_cam_obj adjustment needed tensor([[1., 0., 0., 0.],\n",
      "        [0., 1., 0., 0.],\n",
      "        [0., 0., 1., 0.],\n",
      "        [0., 0., 0., 1.]])\n",
      "code and pose optimized for this point cloud, time elapsed: %f seconds 0.654550313949585\n",
      "correction_transform [[1. 0. 0. 0.]\n",
      " [0. 1. 0. 0.]\n",
      " [0. 0. 1. 0.]\n",
      " [0. 0. 0. 1.]]\n",
      "car_points_after_correction.shape (411, 3)\n",
      "Extract mesh takes 0.161761 seconds\n"
     ]
    }
   ],
   "source": [
    "from joint_opt import joint_optimization\n",
    "scene_pcd, obj_pcd, car_points_after_correction_pcd, mesh_o3d, correction_transform = joint_optimization(\"/home/shashank/Documents/UniBonn/Sem2/MSR_P04/from_scratch/P04_Instance-Completion-and-Motion-Estimation-with-Deep-Shape-Priors-for-Autonomous-Driving/DEEP_SDF/configs/config.yaml\", car)"
   ]
  },
  {
   "cell_type": "code",
   "execution_count": 9,
   "metadata": {},
   "outputs": [],
   "source": [
    "# visualize the mesh\n",
    "o3d.visualization.draw_geometries([car, coordinate_frame, mesh_o3d, car_points_after_correction_pcd])\n"
   ]
  }
 ],
 "metadata": {
  "kernelspec": {
   "display_name": "dsp-slam",
   "language": "python",
   "name": "python3"
  },
  "language_info": {
   "codemirror_mode": {
    "name": "ipython",
    "version": 3
   },
   "file_extension": ".py",
   "mimetype": "text/x-python",
   "name": "python",
   "nbconvert_exporter": "python",
   "pygments_lexer": "ipython3",
   "version": "3.7.12"
  },
  "orig_nbformat": 4
 },
 "nbformat": 4,
 "nbformat_minor": 2
}
